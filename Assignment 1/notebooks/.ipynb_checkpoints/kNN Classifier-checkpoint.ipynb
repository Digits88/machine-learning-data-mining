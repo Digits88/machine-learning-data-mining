{
 "cells": [
  {
   "cell_type": "markdown",
   "metadata": {},
   "source": [
    "# kNN Classifier\n",
    "\n",
    "Import out libraries first."
   ]
  },
  {
   "cell_type": "code",
   "execution_count": 4,
   "metadata": {
    "collapsed": true
   },
   "outputs": [],
   "source": [
    "library(class)\n",
    "library(gmodels)"
   ]
  },
  {
   "cell_type": "markdown",
   "metadata": {},
   "source": [
    "Read in our Illness data."
   ]
  },
  {
   "cell_type": "code",
   "execution_count": 5,
   "metadata": {
    "collapsed": true
   },
   "outputs": [],
   "source": [
    "illness <- read.csv(\"../illness-mapped.csv\")"
   ]
  },
  {
   "cell_type": "markdown",
   "metadata": {},
   "source": [
    "Now we have to normalize our data. Each column is normalized by applying this function over each data point in the column. It takes in the maximum and minimum value of the column, gets the difference and divides each data point by the difference to get a value between 0 and 1."
   ]
  },
  {
   "cell_type": "code",
   "execution_count": 8,
   "metadata": {
    "collapsed": false
   },
   "outputs": [
    {
     "data": {
      "text/plain": [
       " plasma_glucose         bp              age         skin_thickness \n",
       " Min.   :0.0000   Min.   :0.0000   Min.   :0.0000   Min.   :0.000  \n",
       " 1st Qu.:0.3028   1st Qu.:0.4419   1st Qu.:0.2500   1st Qu.:0.100  \n",
       " Median :0.4437   Median :0.5349   Median :0.3929   Median :0.200  \n",
       " Mean   :0.4664   Mean   :0.5386   Mean   :0.3934   Mean   :0.291  \n",
       " 3rd Qu.:0.6074   3rd Qu.:0.6279   3rd Qu.:0.5179   3rd Qu.:0.400  \n",
       " Max.   :1.0000   Max.   :1.0000   Max.   :1.0000   Max.   :1.000  \n",
       " num_pregnancies      insulin            bmi             pedigree      \n",
       " Min.   :0.00000   Min.   :0.0000   Min.   :0.00000   Min.   :0.00000  \n",
       " 1st Qu.:0.07452   1st Qu.:0.2086   1st Qu.:0.07912   1st Qu.:0.03333  \n",
       " Median :0.13341   Median :0.3047   Median :0.15418   Median :0.08333  \n",
       " Mean   :0.17099   Mean   :0.3030   Mean   :0.18597   Mean   :0.15301  \n",
       " 3rd Qu.:0.21184   3rd Qu.:0.3829   3rd Qu.:0.25396   3rd Qu.:0.21667  \n",
       " Max.   :1.00000   Max.   :1.0000   Max.   :1.00000   Max.   :1.00000  "
      ]
     },
     "execution_count": 8,
     "metadata": {},
     "output_type": "execute_result"
    }
   ],
   "source": [
    "normalize <- function(x) {\n",
    "    num <- x - min(x)\n",
    "    denom <- max(x) - min(x)\n",
    "    return (num/denom)\n",
    "}\n",
    "\n",
    "illness_norm <- as.data.frame(lapply(illness[1:8], normalize))\n",
    "\n",
    "# Print out a summary of the data\n",
    "summary(illness_norm)"
   ]
  },
  {
   "cell_type": "markdown",
   "metadata": {},
   "source": [
    "Once the data is normalized, we split our data into training and testing data in a ratio of 2:1. To do this, we create a list the same length as our data and assign it a 1 or 2 value where the probaility of getting a 1 is 67% and a 2 is 33%."
   ]
  },
  {
   "cell_type": "code",
   "execution_count": 9,
   "metadata": {
    "collapsed": true
   },
   "outputs": [],
   "source": [
    "sampler <- sample(2, nrow(illness_norm), replace=TRUE, prob=c(0.67, 0.33))"
   ]
  },
  {
   "cell_type": "markdown",
   "metadata": {},
   "source": [
    "We create our training data, only selecting the instance if the corresponding row in our sampler is 1. We do the same for the test, except only select the row if it is a 2. We also only select our numerical data columns, we leave the classes out of the training and testing data to allow the classifier to predict them."
   ]
  },
  {
   "cell_type": "code",
   "execution_count": 10,
   "metadata": {
    "collapsed": true
   },
   "outputs": [],
   "source": [
    "train <- illness_norm[sampler==1, -1]\n",
    "test <- illness_norm[sampler==2, -1]"
   ]
  },
  {
   "cell_type": "markdown",
   "metadata": {},
   "source": [
    "After splitting out data, we create the class labels for training (and the test labels for testing)."
   ]
  },
  {
   "cell_type": "code",
   "execution_count": 12,
   "metadata": {
    "collapsed": false
   },
   "outputs": [],
   "source": [
    "train_labels <- illness[sampler==1, 9]\n",
    "test_labels <- illness[sampler==2, 9]"
   ]
  },
  {
   "cell_type": "markdown",
   "metadata": {},
   "source": [
    "Now we can run our knn classifier function from the `class` library. Our K is set to 3 nearest neighbours. Once the classifier has run, we output results for inspection."
   ]
  },
  {
   "cell_type": "code",
   "execution_count": 14,
   "metadata": {
    "collapsed": false
   },
   "outputs": [
    {
     "name": "stdout",
     "output_type": "stream",
     "text": [
      "\n",
      " \n",
      "   Cell Contents\n",
      "|-------------------------|\n",
      "|                       N |\n",
      "|           N / Row Total |\n",
      "|           N / Col Total |\n",
      "|         N / Table Total |\n",
      "|-------------------------|\n",
      "\n",
      " \n",
      "Total Observations in Table:  131 \n",
      "\n",
      " \n",
      "             | illness_predicted \n",
      " test_labels |  negative |  positive | Row Total | \n",
      "-------------|-----------|-----------|-----------|\n",
      "    negative |        77 |        16 |        93 | \n",
      "             |     0.828 |     0.172 |     0.710 | \n",
      "             |     0.748 |     0.571 |           | \n",
      "             |     0.588 |     0.122 |           | \n",
      "-------------|-----------|-----------|-----------|\n",
      "    positive |        26 |        12 |        38 | \n",
      "             |     0.684 |     0.316 |     0.290 | \n",
      "             |     0.252 |     0.429 |           | \n",
      "             |     0.198 |     0.092 |           | \n",
      "-------------|-----------|-----------|-----------|\n",
      "Column Total |       103 |        28 |       131 | \n",
      "             |     0.786 |     0.214 |           | \n",
      "-------------|-----------|-----------|-----------|\n",
      "\n",
      " \n"
     ]
    }
   ],
   "source": [
    "illness_predicted <- knn(train, test, train_labels, 3)\n",
    "\n",
    "CrossTable(x = test_labels, y = illness_predicted, prop.chisq=FALSE)"
   ]
  },
  {
   "cell_type": "code",
   "execution_count": null,
   "metadata": {
    "collapsed": true
   },
   "outputs": [],
   "source": []
  }
 ],
 "metadata": {
  "kernelspec": {
   "display_name": "R",
   "language": "R",
   "name": "ir"
  },
  "language_info": {
   "codemirror_mode": "r",
   "file_extension": ".r",
   "mimetype": "text/x-r-source",
   "name": "R",
   "pygments_lexer": "r",
   "version": "3.2.2"
  }
 },
 "nbformat": 4,
 "nbformat_minor": 0
}
