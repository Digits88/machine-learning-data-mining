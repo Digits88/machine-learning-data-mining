{
 "cells": [
  {
   "cell_type": "raw",
   "metadata": {},
   "source": [
    "# Open Source Machine Learning Packages\n",
    "In my opinion, machine learning is relatively new outside of academia an\n",
    "\n",
    "![](https://i.imgur.com/wyXLygh.jpg)"
   ]
  }
 ],
 "metadata": {
  "kernelspec": {
   "display_name": "Python 2",
   "language": "python",
   "name": "python2"
  },
  "language_info": {
   "codemirror_mode": {
    "name": "ipython",
    "version": 2
   },
   "file_extension": ".py",
   "mimetype": "text/x-python",
   "name": "python",
   "nbconvert_exporter": "python",
   "pygments_lexer": "ipython2",
   "version": "2.7.10"
  }
 },
 "nbformat": 4,
 "nbformat_minor": 0
}
