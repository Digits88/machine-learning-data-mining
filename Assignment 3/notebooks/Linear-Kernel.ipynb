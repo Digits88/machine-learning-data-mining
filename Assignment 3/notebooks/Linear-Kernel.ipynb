{
 "cells": [
  {
   "cell_type": "code",
   "execution_count": 1,
   "metadata": {
    "collapsed": true
   },
   "outputs": [],
   "source": [
    "import pandas\n",
    "\n",
    "data = pandas.read_csv(\"../data/owls.csv\")"
   ]
  },
  {
   "cell_type": "code",
   "execution_count": 32,
   "metadata": {
    "collapsed": false
   },
   "outputs": [
    {
     "data": {
      "text/plain": [
       "array([[ 11.]])"
      ]
     },
     "execution_count": 32,
     "metadata": {},
     "output_type": "execute_result"
    }
   ],
   "source": [
    "from sklearn.metrics.pairwise import linear_kernel\n",
    "import numpy as np\n",
    "\n",
    "ndata = data[[\"body-length\", \"wing-length\", \"species\"]][(data[\"species\"] == \"BarnOwl\") | (data[\"species\"] == \"SnowyOwl\")]\n",
    "\n",
    "ndata.loc[ndata[\"species\"] == \"BarnOwl\", \"species\"] = 1\n",
    "ndata.loc[ndata[\"species\"] == \"SnowyOwl\", \"species\"] = -1\n",
    "\n",
    "X = ndata[[\"body-length\", \"wing-length\"]].values\n",
    "y = ndata[\"species\"]\n",
    "Y = y.reshape(y.values.shape[0], 1)\n",
    "\n",
    "linear_kernel(np.array([1, 2]), np.array([3, 4]))"
   ]
  }
 ],
 "metadata": {
  "kernelspec": {
   "display_name": "Python 2",
   "language": "python",
   "name": "python2"
  },
  "language_info": {
   "codemirror_mode": {
    "name": "ipython",
    "version": 2
   },
   "file_extension": ".py",
   "mimetype": "text/x-python",
   "name": "python",
   "nbconvert_exporter": "python",
   "pygments_lexer": "ipython2",
   "version": "2.7.10"
  },
  "latex_envs": {
   "bibliofile": "biblio.bib",
   "cite_by": "apalike",
   "current_citInitial": 1,
   "eqLabelWithNumbers": true,
   "eqNumInitial": 0
  }
 },
 "nbformat": 4,
 "nbformat_minor": 0
}
