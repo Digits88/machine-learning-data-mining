{
 "cells": [
  {
   "cell_type": "code",
   "execution_count": 3,
   "metadata": {
    "collapsed": false
   },
   "outputs": [
    {
     "data": {
      "text/plain": [
       "array([[-1., -0., -0., -0., -0., -0., -0., -0., -0., -0.],\n",
       "       [-0., -1., -0., -0., -0., -0., -0., -0., -0., -0.],\n",
       "       [-0., -0., -1., -0., -0., -0., -0., -0., -0., -0.],\n",
       "       [-0., -0., -0., -1., -0., -0., -0., -0., -0., -0.],\n",
       "       [-0., -0., -0., -0., -1., -0., -0., -0., -0., -0.],\n",
       "       [-0., -0., -0., -0., -0., -1., -0., -0., -0., -0.],\n",
       "       [-0., -0., -0., -0., -0., -0., -1., -0., -0., -0.],\n",
       "       [-0., -0., -0., -0., -0., -0., -0., -1., -0., -0.],\n",
       "       [-0., -0., -0., -0., -0., -0., -0., -0., -1., -0.],\n",
       "       [-0., -0., -0., -0., -0., -0., -0., -0., -0., -1.]])"
      ]
     },
     "execution_count": 3,
     "metadata": {},
     "output_type": "execute_result"
    }
   ],
   "source": [
    "import numpy as np\n",
    "\n",
    "np.diag(np.ones(10)) * -1"
   ]
  }
 ],
 "metadata": {
  "kernelspec": {
   "display_name": "Python 2",
   "language": "python",
   "name": "python2"
  },
  "language_info": {
   "codemirror_mode": {
    "name": "ipython",
    "version": 2
   },
   "file_extension": ".py",
   "mimetype": "text/x-python",
   "name": "python",
   "nbconvert_exporter": "python",
   "pygments_lexer": "ipython2",
   "version": "2.7.10"
  }
 },
 "nbformat": 4,
 "nbformat_minor": 0
}
